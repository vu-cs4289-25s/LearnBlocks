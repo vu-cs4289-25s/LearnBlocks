{
 "cells": [
  {
   "cell_type": "markdown",
   "id": "00ed632a-3cd0-4068-8c39-47a502f0c430",
   "metadata": {},
   "source": [
    "# Install Required Libraries (Run Once)"
   ]
  },
  {
   "cell_type": "code",
   "execution_count": 8,
   "id": "315afa4f-9a82-444a-8ae0-fb1915b6548a",
   "metadata": {},
   "outputs": [
    {
     "name": "stdout",
     "output_type": "stream",
     "text": [
      "Requirement already satisfied: psycopg2 in ./.venv/lib/python3.13/site-packages (2.9.10)\n",
      "Requirement already satisfied: pandas in ./.venv/lib/python3.13/site-packages (2.2.3)\n",
      "Requirement already satisfied: python-dotenv in ./.venv/lib/python3.13/site-packages (1.0.1)\n",
      "Requirement already satisfied: numpy>=1.26.0 in ./.venv/lib/python3.13/site-packages (from pandas) (2.2.3)\n",
      "Requirement already satisfied: python-dateutil>=2.8.2 in ./.venv/lib/python3.13/site-packages (from pandas) (2.9.0.post0)\n",
      "Requirement already satisfied: pytz>=2020.1 in ./.venv/lib/python3.13/site-packages (from pandas) (2025.1)\n",
      "Requirement already satisfied: tzdata>=2022.7 in ./.venv/lib/python3.13/site-packages (from pandas) (2025.1)\n",
      "Requirement already satisfied: six>=1.5 in ./.venv/lib/python3.13/site-packages (from python-dateutil>=2.8.2->pandas) (1.17.0)\n",
      "\n",
      "\u001b[1m[\u001b[0m\u001b[34;49mnotice\u001b[0m\u001b[1;39;49m]\u001b[0m\u001b[39;49m A new release of pip is available: \u001b[0m\u001b[31;49m25.0\u001b[0m\u001b[39;49m -> \u001b[0m\u001b[32;49m25.0.1\u001b[0m\n",
      "\u001b[1m[\u001b[0m\u001b[34;49mnotice\u001b[0m\u001b[1;39;49m]\u001b[0m\u001b[39;49m To update, run: \u001b[0m\u001b[32;49mpip install --upgrade pip\u001b[0m\n"
     ]
    }
   ],
   "source": [
    "!pip install psycopg2 pandas python-dotenv"
   ]
  },
  {
   "cell_type": "markdown",
   "id": "f8dbaa5c-0c63-4773-ab13-e7e0d04d61d7",
   "metadata": {},
   "source": [
    "# Import Libraries & Load Environment Variables"
   ]
  },
  {
   "cell_type": "code",
   "execution_count": 9,
   "id": "8c489405-7692-42ad-a789-57af6940a9e5",
   "metadata": {},
   "outputs": [
    {
     "data": {
      "text/plain": [
       "True"
      ]
     },
     "execution_count": 9,
     "metadata": {},
     "output_type": "execute_result"
    }
   ],
   "source": [
    "import psycopg2\n",
    "import pandas as pd\n",
    "import os\n",
    "from dotenv import load_dotenv\n",
    "\n",
    "# Load environment variables from .env\n",
    "load_dotenv()"
   ]
  },
  {
   "cell_type": "markdown",
   "id": "bb416364-be2b-4fe3-8196-e8086fa33bce",
   "metadata": {},
   "source": [
    "# Secure Database Connection"
   ]
  },
  {
   "cell_type": "code",
   "execution_count": null,
   "id": "2056e1e2-a202-4751-9a8a-74c62e6a043b",
   "metadata": {},
   "outputs": [],
   "source": [
    "load_dotenv()\n",
    "\n",
    "def get_db_connection():\n",
    "    \"\"\"Establish a secure PostgreSQL database connection using .env variables.\"\"\"\n",
    "    return psycopg2.connect(\n",
    "        dbname=os.getenv(\"DB_NAME\"),\n",
    "        user=os.getenv(\"DB_USER\"),\n",
    "        password=os.getenv(\"DB_PASSWORD\"),\n",
    "        host=os.getenv(\"DB_HOST\"),\n",
    "        port=os.getenv(\"DB_PORT\")\n",
    "    )\n",
    "\n",
    "print(\"Database Connected.\")"
   ]
  },
  {
   "cell_type": "markdown",
   "id": "aaa10507-0331-49d7-a63a-e5cc1e0453b7",
   "metadata": {},
   "source": [
    "# AUTHENTICATION & USER MANAGEMENT"
   ]
  },
  {
   "cell_type": "markdown",
   "id": "5e40283e-15fc-4a36-9812-807c3f7b3a2d",
   "metadata": {},
   "source": [
    "## Create a New User"
   ]
  },
  {
   "cell_type": "code",
   "execution_count": 47,
   "id": "b0ad574a-2ab0-48ee-a394-870843be1912",
   "metadata": {},
   "outputs": [],
   "source": [
    "def create_user(role, first_name, last_name, username, email, password_hash):\n",
    "    \"\"\"Create a new user and return user_id. Handles duplicate usernames/emails.\"\"\"\n",
    "    conn = get_db_connection()\n",
    "    cur = conn.cursor()\n",
    "    \n",
    "    try:\n",
    "        cur.execute('''\n",
    "            INSERT INTO \"user\" (role, first_name, last_name, username, email, password_hash)\n",
    "            VALUES (%s, %s, %s, %s, %s, %s)\n",
    "            RETURNING user_id;\n",
    "        ''', (role, first_name, last_name, username, email, password_hash))\n",
    "        \n",
    "        user_id = cur.fetchone()[0]  # Get newly created user ID\n",
    "        conn.commit()\n",
    "        return user_id  # Success\n",
    "    \n",
    "    except psycopg2.IntegrityError as e:  # Catch duplicate entry error\n",
    "        conn.rollback()  # Undo any changes\n",
    "        if \"unique constraint\" in str(e).lower():\n",
    "            print(\"Error: Username or email already exists.\")\n",
    "        else:\n",
    "            print(\"Database Error:\", e)\n",
    "        return None  # Indicate failure\n",
    "\n",
    "    finally:\n",
    "        cur.close()\n",
    "        conn.close()  # Ensure connection is closed"
   ]
  },
  {
   "cell_type": "code",
   "execution_count": 51,
   "id": "744ab024-e856-4069-a7c6-67716249a9c5",
   "metadata": {},
   "outputs": [
    {
     "name": "stdout",
     "output_type": "stream",
     "text": [
      "User created! User ID: 12\n"
     ]
    }
   ],
   "source": [
    "test_user_id = create_user(\n",
    "    role=\"student\",\n",
    "    first_name=\"Luca\",\n",
    "    last_name=\"Antonacci\",\n",
    "    username=\"loser\",\n",
    "    email=\"loser@loser.com\",\n",
    "    password_hash=\"hashedpassword123\"\n",
    ")\n",
    "\n",
    "if test_user_id:\n",
    "    print(f\"User created! User ID: {test_user_id}\")\n",
    "else:\n",
    "    print(\"Failed to create user.\")"
   ]
  },
  {
   "cell_type": "markdown",
   "id": "2b1faf8f-fb71-430d-beea-3e8792283f5f",
   "metadata": {},
   "source": [
    "## Get User Information"
   ]
  },
  {
   "cell_type": "code",
   "execution_count": 23,
   "id": "bcb0d93b-5f82-4307-a04a-d5fcbd7a03d7",
   "metadata": {},
   "outputs": [],
   "source": [
    "def get_user_id(username):\n",
    "    \"\"\"Get user ID by username\"\"\"\n",
    "    conn = get_db_connection()\n",
    "    cur = conn.cursor()\n",
    "    cur.execute('SELECT user_id FROM \"user\" WHERE username = %s;', (username,))\n",
    "    user_id = cur.fetchone()\n",
    "    cur.close()\n",
    "    conn.close()\n",
    "    return user_id[0] if user_id else None\n",
    "\n",
    "def get_user_role(user_id):\n",
    "    \"\"\"Retrieve user role\"\"\"\n",
    "    conn = get_db_connection()\n",
    "    cur = conn.cursor()\n",
    "    cur.execute('SELECT role FROM \"user\" WHERE user_id = %s;', (user_id,))\n",
    "    role = cur.fetchone()\n",
    "    cur.close()\n",
    "    conn.close()\n",
    "    return role[0] if role else None\n",
    "\n",
    "def get_first_name(user_id):\n",
    "    \"\"\"Retrieve first name\"\"\"\n",
    "    conn = get_db_connection()\n",
    "    cur = conn.cursor()\n",
    "    cur.execute('SELECT first_name FROM \"user\" WHERE user_id = %s;', (user_id,))\n",
    "    name = cur.fetchone()\n",
    "    cur.close()\n",
    "    conn.close()\n",
    "    return name[0] if name else None\n",
    "\n",
    "def get_last_name(user_id):\n",
    "    \"\"\"Retrieve last name\"\"\"\n",
    "    conn = get_db_connection()\n",
    "    cur = conn.cursor()\n",
    "    cur.execute('SELECT last_name FROM \"user\" WHERE user_id = %s;', (user_id,))\n",
    "    name = cur.fetchone()\n",
    "    cur.close()\n",
    "    conn.close()\n",
    "    return name[0] if name else None\n",
    "\n",
    "def get_username(user_id):\n",
    "    \"\"\"Retrieve username\"\"\"\n",
    "    conn = get_db_connection()\n",
    "    cur = conn.cursor()\n",
    "    cur.execute('SELECT username FROM \"user\" WHERE user_id = %s;', (user_id,))\n",
    "    username = cur.fetchone()\n",
    "    cur.close()\n",
    "    conn.close()\n",
    "    return username[0] if username else None\n",
    "\n",
    "def get_email(user_id):\n",
    "    \"\"\"Retrieve email\"\"\"\n",
    "    conn = get_db_connection()\n",
    "    cur = conn.cursor()\n",
    "    cur.execute('SELECT email FROM \"user\" WHERE user_id = %s;', (user_id,))\n",
    "    email = cur.fetchone()\n",
    "    cur.close()\n",
    "    conn.close()\n",
    "    return email[0] if email else None\n",
    "\n",
    "def get_week_activity(user_id):\n",
    "    \"\"\"Retrieve user's weekly activity (bit string tracking 7 days).\"\"\"\n",
    "    conn = get_db_connection()\n",
    "    cur = conn.cursor()\n",
    "    cur.execute('SELECT week_activity FROM \"user\" WHERE user_id = %s;', (user_id,))\n",
    "    activity = cur.fetchone()\n",
    "    cur.close()\n",
    "    conn.close()\n",
    "    return activity[0] if activity else None"
   ]
  },
  {
   "cell_type": "code",
   "execution_count": 24,
   "id": "6974caca-aa49-466c-be46-8ce69799e202",
   "metadata": {},
   "outputs": [
    {
     "name": "stdout",
     "output_type": "stream",
     "text": [
      "User ID: None\n",
      "Role: student\n",
      "First Name: Test\n",
      "Last Name: User\n",
      "Username: updateduser123\n",
      "Email: testuser@example.com\n",
      "Weekly Acttivity: 0000000\n"
     ]
    }
   ],
   "source": [
    "print(f\"User ID: {get_user_id('testuser123')}\")\n",
    "print(f\"Role: {get_user_role(test_user_id)}\")\n",
    "print(f\"First Name: {get_first_name(test_user_id)}\")\n",
    "print(f\"Last Name: {get_last_name(test_user_id)}\")\n",
    "print(f\"Username: {get_username(test_user_id)}\")\n",
    "print(f\"Email: {get_email(test_user_id)}\")\n",
    "print(f\"Weekly Acttivity: {get_week_activity(test_user_id)}\")"
   ]
  },
  {
   "cell_type": "markdown",
   "id": "0f4336ab-3ade-4421-97d4-c00e54cb0069",
   "metadata": {},
   "source": [
    "## Update User Information"
   ]
  },
  {
   "cell_type": "code",
   "execution_count": 49,
   "id": "9c2e58a1-9722-4701-8ef6-5cdf37eec623",
   "metadata": {},
   "outputs": [],
   "source": [
    "def update_username(user_id, new_username):\n",
    "    \"\"\"Update user's username\"\"\"\n",
    "    conn = get_db_connection()\n",
    "    cur = conn.cursor()\n",
    "    cur.execute('UPDATE \"user\" SET username = %s WHERE user_id = %s;', (new_username, user_id))\n",
    "    conn.commit()\n",
    "    cur.close()\n",
    "    conn.close()\n",
    "\n",
    "def update_email(user_id, new_email):\n",
    "    \"\"\"Update a user's email address\"\"\"\n",
    "    conn = get_db_connection()\n",
    "    cur = conn.cursor()\n",
    "    \n",
    "    cur.execute('''\n",
    "        UPDATE \"user\"\n",
    "        SET email = %s\n",
    "        WHERE user_id = %s;\n",
    "    ''', (new_email, user_id))\n",
    "    \n",
    "    conn.commit()\n",
    "    cur.close()\n",
    "    conn.close()\n",
    "\n",
    "def update_week_activity(user_id, day_index):\n",
    "    \"\"\"Set a specific day as active in the week activity BIT(7) column\"\"\"\n",
    "    conn = get_db_connection()\n",
    "    cur = conn.cursor()\n",
    "\n",
    "    # Create bitmask for the day (e.g., 0010000 for Wednesday)\n",
    "    bitmask = 1 << (6 - day_index)  # Bitwise shift to set the correct bit\n",
    "\n",
    "    # Update using bitwise OR to preserve previous activity\n",
    "    cur.execute('''\n",
    "        UPDATE \"user\"\n",
    "        SET week_activity = week_activity | %s::bit(7)\n",
    "        WHERE user_id = %s;\n",
    "    ''', (format(bitmask, '07b'), user_id))\n",
    "\n",
    "    conn.commit()\n",
    "    cur.close()\n",
    "    conn.close()\n",
    "\n",
    "def reset_week_activity():\n",
    "    \"\"\"Reset all users' week activity back to 0000000 at the start of a new week.\"\"\"\n",
    "    conn = get_db_connection()\n",
    "    cur = conn.cursor()\n",
    "    \n",
    "    # Set week_activity to all zeros for every user\n",
    "    cur.execute('''\n",
    "        UPDATE \"user\"\n",
    "        SET week_activity = B'0000000';\n",
    "    ''')\n",
    "    \n",
    "    conn.commit()\n",
    "    cur.close()\n",
    "    conn.close()\n",
    "\n",
    "def delete_user(user_id):\n",
    "    \"\"\"Delete a user by user_id.\"\"\"\n",
    "    conn = get_db_connection()\n",
    "    cur = conn.cursor()\n",
    "\n",
    "    # Check if the user exists before deleting\n",
    "    cur.execute('SELECT user_id FROM \"user\" WHERE user_id = %s;', (user_id,))\n",
    "    existing_user = cur.fetchone()\n",
    "\n",
    "    if not existing_user:\n",
    "        print(\"Error: User not found.\")\n",
    "        return False  # Indicate failure\n",
    "\n",
    "    # Delete the user\n",
    "    cur.execute('DELETE FROM \"user\" WHERE user_id = %s;', (user_id,))\n",
    "    conn.commit()\n",
    "\n",
    "    cur.close()\n",
    "    conn.close()"
   ]
  },
  {
   "cell_type": "code",
   "execution_count": 50,
   "id": "e9d317e0-9f6f-4b41-b101-b25aa7b3e032",
   "metadata": {},
   "outputs": [
    {
     "name": "stdout",
     "output_type": "stream",
     "text": [
      "Updated Username: None\n"
     ]
    }
   ],
   "source": [
    "update_username(test_user_id, \"updateduser123\")\n",
    "print(f\"Updated Username: {get_username(test_user_id)}\")"
   ]
  },
  {
   "cell_type": "code",
   "execution_count": 42,
   "id": "4f04c032-75b5-4aaa-917b-84808203582c",
   "metadata": {},
   "outputs": [
    {
     "name": "stdout",
     "output_type": "stream",
     "text": [
      "Updated Email: newemail@example.com\n"
     ]
    }
   ],
   "source": [
    "update_email(test_user_id, \"newemail@example.com\")\n",
    "print(f\"Updated Email: {get_email(test_user_id)}\")"
   ]
  },
  {
   "cell_type": "code",
   "execution_count": 38,
   "id": "174b9f83-8161-40e4-b777-a2ce83fe5a90",
   "metadata": {},
   "outputs": [
    {
     "name": "stdout",
     "output_type": "stream",
     "text": [
      "Initial Weekly Activity: 0000000\n",
      "Updated Weekly Activity (M Active): 1000000\n",
      "Updated Weekly Activity (M + W Active): 1010000\n",
      "After Reset: 0000000\n"
     ]
    }
   ],
   "source": [
    "print(f\"Initial Weekly Activity: {get_week_activity(test_user_id)}\")\n",
    "update_week_activity(test_user_id, 0)\n",
    "print(f\"Updated Weekly Activity (M Active): {get_week_activity(test_user_id)}\")\n",
    "update_week_activity(test_user_id, 2)\n",
    "print(f\"Updated Weekly Activity (M + W Active): {get_week_activity(test_user_id)}\")\n",
    "\n",
    "# import schedule\n",
    "# import time\n",
    "\n",
    "# # Schedule weekly reset every Monday at 12:01 AM\n",
    "# schedule.every().monday.at(\"00:01\").do(reset_weekly_activity)\n",
    "\n",
    "# while True:\n",
    "#     schedule.run_pending()\n",
    "#     time.sleep(60)  # Check every minute\n",
    "\n",
    "reset_week_activity()\n",
    "print(f\"After Reset: {get_week_activity(test_user_id)}\")"
   ]
  },
  {
   "cell_type": "code",
   "execution_count": 55,
   "id": "5b03fbd0-27b6-4a87-a668-d06f1148d724",
   "metadata": {},
   "outputs": [
    {
     "name": "stdout",
     "output_type": "stream",
     "text": [
      "Error: User not found.\n",
      "Failed to delete user.\n"
     ]
    }
   ],
   "source": [
    "delete_success = delete_user(12)\n",
    "if delete_success:\n",
    "    print(\"User was successfully deleted.\")\n",
    "else:\n",
    "    print(\"Failed to delete user.\")"
   ]
  },
  {
   "cell_type": "markdown",
   "id": "c5b72137-febd-4929-81ad-1e650f85c84e",
   "metadata": {},
   "source": [
    "# CLASS MANAGEMENT"
   ]
  },
  {
   "cell_type": "code",
   "execution_count": 81,
   "id": "8d7865f6-1b9f-45e1-b216-1cd6c8ce0b07",
   "metadata": {},
   "outputs": [],
   "source": [
    "def create_class(class_name, owner_id):\n",
    "    \"\"\"Create a new class and assign the owner in user_class_roster.\"\"\"\n",
    "    conn = get_db_connection()\n",
    "    cur = conn.cursor()\n",
    "\n",
    "    # Step 1: Insert the class into the class table\n",
    "    cur.execute('''\n",
    "        INSERT INTO \"class\" (class_name, class_code, is_active, created_at)\n",
    "        VALUES (%s, LEFT(MD5(random()::text), 8), TRUE, CURRENT_TIMESTAMP)\n",
    "        RETURNING class_id;\n",
    "    ''', (class_name,))\n",
    "    \n",
    "    class_id = cur.fetchone()[0]  # Get the new class ID\n",
    "\n",
    "    # Step 2: Insert the owner into the user_class_roster table\n",
    "    cur.execute('''\n",
    "        INSERT INTO \"user_class_roster\" (user_id, class_id, role, enrollment_date)\n",
    "        VALUES (%s, %s, 'owner', CURRENT_DATE);\n",
    "    ''', (owner_id, class_id))\n",
    "\n",
    "    conn.commit()\n",
    "    cur.close()\n",
    "    conn.close()\n",
    "    return class_id\n",
    "\n",
    "def get_active_classes():\n",
    "    \"\"\"Retrieve all active classes.\"\"\"\n",
    "    conn = get_db_connection()\n",
    "    cur = conn.cursor()\n",
    "    cur.execute('SELECT * FROM \"class\" WHERE is_active = TRUE;')\n",
    "    classes = cur.fetchall()\n",
    "    cur.close()\n",
    "    conn.close()\n",
    "    return classes\n",
    "\n",
    "def get_class_by_id(class_id):\n",
    "    \"\"\"Retrieve a specific class by its ID.\"\"\"\n",
    "    conn = get_db_connection()\n",
    "    cur = conn.cursor()\n",
    "    cur.execute('SELECT * FROM \"class\" WHERE class_id = %s;', (class_id,))\n",
    "    class_info = cur.fetchone()\n",
    "    cur.close()\n",
    "    conn.close()\n",
    "    return class_info\n",
    "\n",
    "def get_class_code(class_id):\n",
    "    \"\"\"Retrieve the class code for a specific class.\"\"\"\n",
    "    conn = get_db_connection()\n",
    "    cur = conn.cursor()\n",
    "    cur.execute('SELECT class_code FROM \"class\" WHERE class_id = %s;', (class_id,))\n",
    "    class_code = cur.fetchone()[0]\n",
    "    cur.close()\n",
    "    conn.close()\n",
    "    return class_code\n",
    "\n",
    "def join_class_by_code(student_id, class_code):\n",
    "    \"\"\"Enroll a student in a class using the class code.\"\"\"\n",
    "    conn = get_db_connection()\n",
    "    cur = conn.cursor()\n",
    "    \n",
    "    # Check if class code exists\n",
    "    cur.execute('SELECT class_id FROM \"class\" WHERE class_code = %s;', (class_code,))\n",
    "    result = cur.fetchone()\n",
    "    \n",
    "    if result:\n",
    "        class_id = result[0]\n",
    "        \n",
    "        # Add student to class roster\n",
    "        cur.execute('''\n",
    "            INSERT INTO \"user_class_roster\" (user_id, class_id, role, enrollment_date)\n",
    "            VALUES (%s, %s, 'participant', CURRENT_DATE);\n",
    "        ''', (student_id, class_id))\n",
    "        \n",
    "        conn.commit()\n",
    "        print(f\"Student {student_id} joined class {class_id} successfully.\")\n",
    "    else:\n",
    "        print(\"Error: Invalid class code.\")\n",
    "    \n",
    "    cur.close()\n",
    "    conn.close()\n",
    "\n",
    "def archive_class(class_id):\n",
    "    \"\"\"Archive a class (set is_active to FALSE).\"\"\"\n",
    "    conn = get_db_connection()\n",
    "    cur = conn.cursor()\n",
    "    cur.execute('UPDATE \"class\" SET is_active = FALSE WHERE class_id = %s;', (class_id,))\n",
    "    conn.commit()\n",
    "    cur.close()\n",
    "    conn.close()\n",
    "\n",
    "def delete_class(class_id):\n",
    "    \"\"\"Delete a class by first removing all linked users from user_class_roster.\"\"\"\n",
    "    conn = get_db_connection()\n",
    "    cur = conn.cursor()\n",
    "\n",
    "    # Remove all students/owners from user_class_roster\n",
    "    cur.execute('DELETE FROM \"user_class_roster\" WHERE class_id = %s;', (class_id,))\n",
    "\n",
    "    # Delete the class safely\n",
    "    cur.execute('DELETE FROM \"class\" WHERE class_id = %s;', (class_id,))\n",
    "    \n",
    "    conn.commit()\n",
    "    cur.close()\n",
    "    conn.close()"
   ]
  },
  {
   "cell_type": "code",
   "execution_count": 59,
   "id": "04fb8912-f20a-420d-8f04-4a00c1d55d15",
   "metadata": {},
   "outputs": [
    {
     "name": "stdout",
     "output_type": "stream",
     "text": [
      "Created Class ID: 1 for User ID: 9\n"
     ]
    }
   ],
   "source": [
    "current_user_id = get_user_id(\"testuser123\")\n",
    "new_class_id = create_class(\"Math 101\", current_user_id)\n",
    "print(f\"Created Class ID: {new_class_id} for User ID: {current_user_id}\")"
   ]
  },
  {
   "cell_type": "code",
   "execution_count": 62,
   "id": "7c342fef-06b9-4473-812b-30aa3bf50e71",
   "metadata": {},
   "outputs": [
    {
     "name": "stdout",
     "output_type": "stream",
     "text": [
      "Active Classes: [(1, 'Math 101', '3e63e766', True, datetime.datetime(2025, 3, 12, 13, 29, 46, 665901))]\n"
     ]
    }
   ],
   "source": [
    "print(f\"Active Classes: {get_active_classes()}\")"
   ]
  },
  {
   "cell_type": "code",
   "execution_count": 64,
   "id": "51501e88-e5b8-4be9-9f63-57325d40ea51",
   "metadata": {},
   "outputs": [
    {
     "name": "stdout",
     "output_type": "stream",
     "text": [
      "Class Info: (1, 'Math 101', '3e63e766', True, datetime.datetime(2025, 3, 12, 13, 29, 46, 665901))\n"
     ]
    }
   ],
   "source": [
    "print(f\"Class Info: {get_class_by_id(1)}\")"
   ]
  },
  {
   "cell_type": "code",
   "execution_count": 72,
   "id": "44aa5c50-205c-45ec-8916-6c397a6146c8",
   "metadata": {},
   "outputs": [
    {
     "name": "stdout",
     "output_type": "stream",
     "text": [
      "Class Code: 3e63e766\n"
     ]
    }
   ],
   "source": [
    "print(f\"Class Code: {get_class_code(1)}\")"
   ]
  },
  {
   "cell_type": "code",
   "execution_count": 74,
   "id": "9bfdaa68-36a1-4532-bd5b-fd6447ccb8b6",
   "metadata": {},
   "outputs": [
    {
     "name": "stdout",
     "output_type": "stream",
     "text": [
      "Student 4 joined class 1 successfully.\n"
     ]
    }
   ],
   "source": [
    "join_class_by_code(4, get_class_code(new_class_id))"
   ]
  },
  {
   "cell_type": "code",
   "execution_count": 76,
   "id": "770e924c-f2a3-45f8-ac43-1eab77eea25e",
   "metadata": {},
   "outputs": [
    {
     "name": "stdout",
     "output_type": "stream",
     "text": [
      "Archived Class: (1, 'Math 101', '3e63e766', False, datetime.datetime(2025, 3, 12, 13, 29, 46, 665901))\n"
     ]
    }
   ],
   "source": [
    "archive_class(new_class_id)\n",
    "print(f\"Archived Class: {get_class_by_id(new_class_id)}\")"
   ]
  },
  {
   "cell_type": "code",
   "execution_count": 80,
   "id": "3504389f-e491-4c87-8680-4739bb8a4981",
   "metadata": {},
   "outputs": [
    {
     "name": "stdout",
     "output_type": "stream",
     "text": [
      "Deleted Class: None\n"
     ]
    }
   ],
   "source": [
    "delete_class(new_class_id)\n",
    "print(f\"Deleted Class: {get_class_by_id(new_class_id)}\")"
   ]
  },
  {
   "cell_type": "markdown",
   "id": "7e8cd2e7-066c-40cf-afe1-34449041f8da",
   "metadata": {},
   "source": [
    "# COURSE MANAGEMENT"
   ]
  },
  {
   "cell_type": "code",
   "execution_count": 88,
   "id": "9826b814-1b04-42f8-9a58-da5aaf9977cf",
   "metadata": {},
   "outputs": [],
   "source": [
    "def create_private_course(course_name, owner_id):\n",
    "    \"\"\"Create a new private course.\"\"\"\n",
    "    conn = get_db_connection()\n",
    "    cur = conn.cursor()\n",
    "    cur.execute('''\n",
    "        INSERT INTO \"course\" (course_name, owner_id, permission)\n",
    "        VALUES (%s, %s, 'private')\n",
    "        RETURNING course_id;\n",
    "    ''', (course_name, owner_id))\n",
    "    course_id = cur.fetchone()[0]\n",
    "    conn.commit()\n",
    "    cur.close()\n",
    "    conn.close()\n",
    "    return course_id\n",
    "\n",
    "def create_public_course(course_name, owner_id):\n",
    "    \"\"\"Create a new public course.\"\"\"\n",
    "    conn = get_db_connection()\n",
    "    cur = conn.cursor()\n",
    "    cur.execute('''\n",
    "        INSERT INTO \"course\" (course_name, owner_id, permission)\n",
    "        VALUES (%s, %s, 'public')\n",
    "        RETURNING course_id;\n",
    "    ''', (course_name, owner_id))\n",
    "    course_id = cur.fetchone()[0]\n",
    "    conn.commit()\n",
    "    cur.close()\n",
    "    conn.close()\n",
    "    return course_id\n",
    "\n",
    "def delete_course(course_id):\n",
    "    \"\"\"Delete a course after removing dependencies.\"\"\"\n",
    "    conn = get_db_connection()\n",
    "    cur = conn.cursor()\n",
    "    \n",
    "    # Remove linked records before deleting the course\n",
    "    cur.execute('DELETE FROM \"course_class_mapping\" WHERE course_id = %s;', (course_id,))\n",
    "    cur.execute('DELETE FROM \"user_course_enrollment\" WHERE course_id = %s;', (course_id,))\n",
    "    cur.execute('DELETE FROM \"module_course_mapping\" WHERE course_id = %s;', (course_id,))\n",
    "    \n",
    "    # Delete the course\n",
    "    cur.execute('DELETE FROM \"course\" WHERE course_id = %s;', (course_id,))\n",
    "    \n",
    "    conn.commit()\n",
    "    cur.close()\n",
    "    conn.close()"
   ]
  },
  {
   "cell_type": "code",
   "execution_count": 89,
   "id": "7079d188-a2e1-47ea-a5fe-929066240eee",
   "metadata": {},
   "outputs": [
    {
     "name": "stdout",
     "output_type": "stream",
     "text": [
      "Created Private Course ID: 5\n"
     ]
    }
   ],
   "source": [
    "private_course_id = create_private_course(\"Advanced Python\", 4)\n",
    "print(f\"Created Private Course ID: {private_course_id}\")"
   ]
  },
  {
   "cell_type": "code",
   "execution_count": 90,
   "id": "78f8c9ea-d3a8-4dc3-9e0e-5a4936e5f2d8",
   "metadata": {},
   "outputs": [
    {
     "name": "stdout",
     "output_type": "stream",
     "text": [
      "Created Public Course ID: 6\n"
     ]
    }
   ],
   "source": [
    "public_course_id = create_public_course(\"Intro to JavaScript\", 4)\n",
    "print(f\"Created Public Course ID: {public_course_id}\")"
   ]
  },
  {
   "cell_type": "code",
   "execution_count": 91,
   "id": "a58360a3-9b1f-4516-a398-79745c79c151",
   "metadata": {},
   "outputs": [
    {
     "name": "stdout",
     "output_type": "stream",
     "text": [
      "Deleted Private Course: 5\n"
     ]
    }
   ],
   "source": [
    "delete_course(private_course_id)\n",
    "print(f\"Deleted Private Course: {private_course_id}\")"
   ]
  },
  {
   "cell_type": "markdown",
   "id": "63ee8e5d-f594-4229-8a1c-a9fa73e1e1ec",
   "metadata": {},
   "source": [
    "# MODULE MANAGEMENT"
   ]
  },
  {
   "cell_type": "code",
   "execution_count": 92,
   "id": "e15d51fd-fe7b-41a4-b8b3-aa90c97d78fe",
   "metadata": {},
   "outputs": [],
   "source": [
    "def create_module(module_name, owner_id):\n",
    "    \"\"\"Create a new module.\"\"\"\n",
    "    conn = get_db_connection()\n",
    "    cur = conn.cursor()\n",
    "    cur.execute('''\n",
    "        INSERT INTO \"module\" (module_name, status, owner_id)\n",
    "        VALUES (%s, 'locked', %s)\n",
    "        RETURNING module_id;\n",
    "    ''', (module_name, owner_id))\n",
    "    module_id = cur.fetchone()[0]\n",
    "    conn.commit()\n",
    "    cur.close()\n",
    "    conn.close()\n",
    "    return module_id\n",
    "\n",
    "def add_module_to_course(course_id, module_id, module_order):\n",
    "    \"\"\"Add a module to a course with a specified order.\"\"\"\n",
    "    conn = get_db_connection()\n",
    "    cur = conn.cursor()\n",
    "    cur.execute('''\n",
    "        INSERT INTO \"module_course_mapping\" (course_id, module_id, module_order)\n",
    "        VALUES (%s, %s, %s);\n",
    "    ''', (course_id, module_id, module_order))\n",
    "    conn.commit()\n",
    "    cur.close()\n",
    "    conn.close()\n",
    "\n",
    "def delete_module(module_id):\n",
    "    \"\"\"Delete a module after removing dependencies.\"\"\"\n",
    "    conn = get_db_connection()\n",
    "    cur = conn.cursor()\n",
    "    cur.execute('DELETE FROM \"module_course_mapping\" WHERE module_id = %s;', (module_id,))\n",
    "    cur.execute('DELETE FROM \"user_module_progress\" WHERE module_id = %s;', (module_id,))\n",
    "    cur.execute('DELETE FROM \"module\" WHERE module_id = %s;', (module_id,))\n",
    "    conn.commit()\n",
    "    cur.close()\n",
    "    conn.close()"
   ]
  },
  {
   "cell_type": "code",
   "execution_count": 100,
   "id": "95ce08c0-528d-4853-a417-d6275e2aaee1",
   "metadata": {},
   "outputs": [
    {
     "name": "stdout",
     "output_type": "stream",
     "text": [
      "Created Module ID: 4\n"
     ]
    }
   ],
   "source": [
    "module_id = create_module(\"Object-Oriented Programming\", 4)\n",
    "print(f\"Created Module ID: {module_id}\")"
   ]
  },
  {
   "cell_type": "code",
   "execution_count": 101,
   "id": "65590a7d-b147-4492-8a4b-76f117bf8496",
   "metadata": {},
   "outputs": [
    {
     "name": "stdout",
     "output_type": "stream",
     "text": [
      "Added Module 4 to Course 6 at Order 2\n"
     ]
    }
   ],
   "source": [
    "add_module_to_course(public_course_id, module_id, 2)\n",
    "print(f\"Added Module {module_id} to Course {public_course_id} at Order 2\")"
   ]
  },
  {
   "cell_type": "code",
   "execution_count": 99,
   "id": "6e679039-d56f-42e0-9699-571b2aef273b",
   "metadata": {},
   "outputs": [
    {
     "name": "stdout",
     "output_type": "stream",
     "text": [
      "Deleted Module ID: 3\n"
     ]
    }
   ],
   "source": [
    "delete_module(module_id)\n",
    "print(f\"Deleted Module ID: {module_id}\")"
   ]
  },
  {
   "cell_type": "markdown",
   "id": "7e873e35-24db-46db-87c1-365fc050593b",
   "metadata": {},
   "source": [
    "# BADGES"
   ]
  },
  {
   "cell_type": "code",
   "execution_count": 105,
   "id": "3c3bcd93-f821-4cbf-8225-ea12eebd96fa",
   "metadata": {},
   "outputs": [],
   "source": [
    "def create_badge(badge_name, badge_description, s3_url):\n",
    "    \"\"\"Create a new badge.\"\"\"\n",
    "    conn = get_db_connection()\n",
    "    cur = conn.cursor()\n",
    "    cur.execute('''\n",
    "        INSERT INTO \"badge\" (badge_name, badge_description, s3_url)\n",
    "        VALUES (%s, %s, %s)\n",
    "        RETURNING badge_id;\n",
    "    ''', (badge_name, badge_description, s3_url))\n",
    "    badge_id = cur.fetchone()[0]\n",
    "    conn.commit()\n",
    "    cur.close()\n",
    "    conn.close()\n",
    "    return badge_id\n",
    "\n",
    "def award_badge(user_id, badge_id):\n",
    "    \"\"\"Award a badge to a user.\"\"\"\n",
    "    conn = get_db_connection()\n",
    "    cur = conn.cursor()\n",
    "    cur.execute('''\n",
    "        INSERT INTO \"user_badge_achievement\" (user_id, badge_id, earned_date)\n",
    "        VALUES (%s, %s, CURRENT_TIMESTAMP);\n",
    "    ''', (user_id, badge_id))\n",
    "    conn.commit()\n",
    "    cur.close()\n",
    "    conn.close()\n",
    "\n",
    "def get_user_badges(user_id):\n",
    "    \"\"\"Retrieve all badges earned by a user.\"\"\"\n",
    "    conn = get_db_connection()\n",
    "    cur = conn.cursor()\n",
    "    cur.execute('''\n",
    "        SELECT b.badge_id, b.badge_name, b.badge_description, b.s3_url, uba.earned_date\n",
    "        FROM \"badge\" b\n",
    "        JOIN \"user_badge_achievement\" uba ON b.badge_id = uba.badge_id\n",
    "        WHERE uba.user_id = %s;\n",
    "    ''', (user_id,))\n",
    "    badges = cur.fetchall()\n",
    "    cur.close()\n",
    "    conn.close()\n",
    "    return badges"
   ]
  },
  {
   "cell_type": "code",
   "execution_count": 103,
   "id": "6980ecf2-5cd2-4815-83f8-75772e74bbfd",
   "metadata": {},
   "outputs": [
    {
     "name": "stdout",
     "output_type": "stream",
     "text": [
      "Created Badge ID: 1\n"
     ]
    }
   ],
   "source": [
    "badge_id = create_badge(\"Python Master\", \"Earned by completing all Python courses\", \"https://s3.amazonaws.com/badges/python_master.png\")\n",
    "print(f\"Created Badge ID: {badge_id}\")"
   ]
  },
  {
   "cell_type": "code",
   "execution_count": 104,
   "id": "810015bc-7128-47bf-a045-e25b37a96e0b",
   "metadata": {},
   "outputs": [
    {
     "name": "stdout",
     "output_type": "stream",
     "text": [
      "Awarded Badge 1 to User 1\n"
     ]
    }
   ],
   "source": [
    "award_badge(4, badge_id)\n",
    "print(f\"Awarded Badge {badge_id} to User 1\")"
   ]
  },
  {
   "cell_type": "code",
   "execution_count": 107,
   "id": "80008773-49f2-4854-85f1-d2c3fc4c1952",
   "metadata": {},
   "outputs": [
    {
     "name": "stdout",
     "output_type": "stream",
     "text": [
      "✅ Badges for User 4: [(1, 'Python Master', 'Earned by completing all Python courses', 'https://s3.amazonaws.com/badges/python_master.png', datetime.datetime(2025, 3, 12, 15, 7, 46, 495473))]\n"
     ]
    }
   ],
   "source": [
    "user_badges = get_user_badges(4)\n",
    "print(f\"✅ Badges for User 4: {user_badges}\")"
   ]
  },
  {
   "cell_type": "markdown",
   "id": "892e9e99-5133-4f8d-8626-235998e49e49",
   "metadata": {},
   "source": [
    "# PROJECT MANAGEMENT"
   ]
  },
  {
   "cell_type": "code",
   "execution_count": 110,
   "id": "84c59811-15ef-411a-b207-1b62dd246a23",
   "metadata": {},
   "outputs": [],
   "source": [
    "def create_project(user_id, project_name, module_id, s3_url):\n",
    "    \"\"\"Create a new project.\"\"\"\n",
    "    conn = get_db_connection()\n",
    "    cur = conn.cursor()\n",
    "    cur.execute('''\n",
    "        INSERT INTO \"project\" (user_id, project_name, module_id, s3_url)\n",
    "        VALUES (%s, %s, %s, %s)\n",
    "        RETURNING project_id;\n",
    "    ''', (user_id, project_name, module_id, s3_url))\n",
    "    project_id = cur.fetchone()[0]\n",
    "    conn.commit()\n",
    "    cur.close()\n",
    "    conn.close()\n",
    "    return project_id\n",
    "\n",
    "def update_project(project_id, new_project_name):\n",
    "    \"\"\"Update project name and timestamp.\"\"\"\n",
    "    conn = get_db_connection()\n",
    "    cur = conn.cursor()\n",
    "    cur.execute('''\n",
    "        UPDATE \"project\"\n",
    "        SET project_name = %s, last_modified = CURRENT_TIMESTAMP\n",
    "        WHERE project_id = %s;\n",
    "    ''', (new_project_name, project_id))\n",
    "    conn.commit()\n",
    "    cur.close()\n",
    "    conn.close()\n",
    "\n",
    "def delete_project(project_id):\n",
    "    \"\"\"Delete a project.\"\"\"\n",
    "    conn = get_db_connection()\n",
    "    cur = conn.cursor()\n",
    "    cur.execute('DELETE FROM \"project\" WHERE project_id = %s;', (project_id,))\n",
    "    conn.commit()\n",
    "    cur.close()\n",
    "    conn.close()"
   ]
  },
  {
   "cell_type": "code",
   "execution_count": 111,
   "id": "60af2fcf-e930-4d21-b6b7-133c121edcc1",
   "metadata": {},
   "outputs": [
    {
     "name": "stdout",
     "output_type": "stream",
     "text": [
      "Created Project ID: 1\n"
     ]
    }
   ],
   "source": [
    "project_id = create_project(4, \"Final Python Project\", module_id, \"https://s3.amazonaws.com/projects/final_python_project.zip\")\n",
    "print(f\"Created Project ID: {project_id}\")"
   ]
  },
  {
   "cell_type": "code",
   "execution_count": 112,
   "id": "e79b5372-1545-4257-b90e-44ef0c1dc462",
   "metadata": {},
   "outputs": [
    {
     "name": "stdout",
     "output_type": "stream",
     "text": [
      "Updated Project ID: 1\n"
     ]
    }
   ],
   "source": [
    "update_project(project_id, \"Updated Python Project\")\n",
    "print(f\"Updated Project ID: {project_id}\")"
   ]
  },
  {
   "cell_type": "code",
   "execution_count": 113,
   "id": "503e9f51-0a02-470a-8b78-11e9fbbc6035",
   "metadata": {},
   "outputs": [
    {
     "name": "stdout",
     "output_type": "stream",
     "text": [
      "Deleted Project ID: 1\n"
     ]
    }
   ],
   "source": [
    "delete_project(project_id)\n",
    "print(f\"Deleted Project ID: {project_id}\")"
   ]
  }
 ],
 "metadata": {
  "kernelspec": {
   "display_name": "Python 3.12 (.venv)",
   "language": "python",
   "name": ".venv"
  },
  "language_info": {
   "codemirror_mode": {
    "name": "ipython",
    "version": 3
   },
   "file_extension": ".py",
   "mimetype": "text/x-python",
   "name": "python",
   "nbconvert_exporter": "python",
   "pygments_lexer": "ipython3",
   "version": "3.13.2"
  }
 },
 "nbformat": 4,
 "nbformat_minor": 5
}
